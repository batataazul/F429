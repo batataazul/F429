{
 "cells": [
  {
   "cell_type": "code",
   "execution_count": 2,
   "metadata": {
    "colab": {
     "base_uri": "https://localhost:8080/",
     "height": 122
    },
    "colab_type": "code",
    "executionInfo": {
     "elapsed": 33364,
     "status": "ok",
     "timestamp": 1566098197739,
     "user": {
      "displayName": "Christian Massao Konishi",
      "photoUrl": "",
      "userId": "05997244698314542584"
     },
     "user_tz": 180
    },
    "id": "LCUZfUKRLaUZ",
    "outputId": "a91e8d04-181e-46ed-d3b1-5146d830a858"
   },
   "outputs": [],
   "source": [
    "import pandas as pd\n",
    "import matplotlib.pyplot as plt\n",
    "import numpy as np\n",
    "\n",
    "\n",
    "\n"
   ]
  },
  {
   "cell_type": "code",
   "execution_count": 3,
   "metadata": {
    "colab": {},
    "colab_type": "code",
    "id": "bDrlyQByOKkd"
   },
   "outputs": [],
   "source": [
    "files = [\"100OHM_22UF_48.78MH_varredura100Hz_3MHz_dados_dados.csv\",\"10OHM_22UF_48.78MH_varredura100Hz_3MHz_dados.csv\",\"1kOHM_22UF_48.78MH_varredura100Hz_3MHz_dados.csv\"]\n",
    "save = True"
   ]
  },
  {
   "cell_type": "code",
   "execution_count": 4,
   "metadata": {},
   "outputs": [],
   "source": [
    "def print_pair(x,y):\n",
    "    for i in range(len(x)):\n",
    "        print(\"x=\", x[i], \", y=\", y[i])"
   ]
  },
  {
   "cell_type": "code",
   "execution_count": 5,
   "metadata": {
    "colab": {
     "base_uri": "https://localhost:8080/",
     "height": 1000
    },
    "colab_type": "code",
    "executionInfo": {
     "elapsed": 3838,
     "status": "ok",
     "timestamp": 1566098351496,
     "user": {
      "displayName": "Christian Massao Konishi",
      "photoUrl": "",
      "userId": "05997244698314542584"
     },
     "user_tz": 180
    },
    "id": "jLsjxyEmL6CL",
    "outputId": "7ea605e8-b7f1-42a6-fcf7-b94002816c57"
   },
   "outputs": [
    {
     "ename": "FileNotFoundError",
     "evalue": "File b'100OHM_0.22UF_48.78MH_varredura100Hz_3MHz_dados_dados.csv' does not exist",
     "output_type": "error",
     "traceback": [
      "\u001b[0;31m---------------------------------------------------------------------------\u001b[0m",
      "\u001b[0;31mFileNotFoundError\u001b[0m                         Traceback (most recent call last)",
      "\u001b[0;32m<ipython-input-5-156c4f98bcb4>\u001b[0m in \u001b[0;36m<module>\u001b[0;34m\u001b[0m\n\u001b[1;32m      1\u001b[0m \u001b[0;32mfor\u001b[0m \u001b[0mi\u001b[0m \u001b[0;32min\u001b[0m \u001b[0mfiles\u001b[0m\u001b[0;34m:\u001b[0m\u001b[0;34m\u001b[0m\u001b[0;34m\u001b[0m\u001b[0m\n\u001b[1;32m      2\u001b[0m \u001b[0;34m\u001b[0m\u001b[0m\n\u001b[0;32m----> 3\u001b[0;31m   \u001b[0mdata\u001b[0m \u001b[0;34m=\u001b[0m \u001b[0mpd\u001b[0m\u001b[0;34m.\u001b[0m\u001b[0mread_csv\u001b[0m\u001b[0;34m(\u001b[0m\u001b[0mi\u001b[0m\u001b[0;34m)\u001b[0m\u001b[0;34m\u001b[0m\u001b[0;34m\u001b[0m\u001b[0m\n\u001b[0m\u001b[1;32m      4\u001b[0m   \u001b[0mfreq\u001b[0m \u001b[0;34m=\u001b[0m \u001b[0mnp\u001b[0m\u001b[0;34m.\u001b[0m\u001b[0mlog10\u001b[0m\u001b[0;34m(\u001b[0m\u001b[0mdata\u001b[0m\u001b[0;34m[\u001b[0m\u001b[0;34m\"frequencia (Hz)\"\u001b[0m\u001b[0;34m]\u001b[0m\u001b[0;34m.\u001b[0m\u001b[0mto_numpy\u001b[0m\u001b[0;34m(\u001b[0m\u001b[0mdtype\u001b[0m\u001b[0;34m=\u001b[0m\u001b[0;34m\"float64\"\u001b[0m\u001b[0;34m)\u001b[0m\u001b[0;34m)\u001b[0m\u001b[0;34m\u001b[0m\u001b[0;34m\u001b[0m\u001b[0m\n\u001b[1;32m      5\u001b[0m   \u001b[0mv_out\u001b[0m \u001b[0;34m=\u001b[0m \u001b[0mdata\u001b[0m\u001b[0;34m[\u001b[0m\u001b[0;34m\"Vpp2 (V)\"\u001b[0m\u001b[0;34m]\u001b[0m\u001b[0;34m.\u001b[0m\u001b[0mto_numpy\u001b[0m\u001b[0;34m(\u001b[0m\u001b[0mdtype\u001b[0m\u001b[0;34m=\u001b[0m\u001b[0;34m\"float64\"\u001b[0m\u001b[0;34m)\u001b[0m\u001b[0;34m\u001b[0m\u001b[0;34m\u001b[0m\u001b[0m\n",
      "\u001b[0;32m~/anaconda3/lib/python3.7/site-packages/pandas/io/parsers.py\u001b[0m in \u001b[0;36mparser_f\u001b[0;34m(filepath_or_buffer, sep, delimiter, header, names, index_col, usecols, squeeze, prefix, mangle_dupe_cols, dtype, engine, converters, true_values, false_values, skipinitialspace, skiprows, nrows, na_values, keep_default_na, na_filter, verbose, skip_blank_lines, parse_dates, infer_datetime_format, keep_date_col, date_parser, dayfirst, iterator, chunksize, compression, thousands, decimal, lineterminator, quotechar, quoting, escapechar, comment, encoding, dialect, tupleize_cols, error_bad_lines, warn_bad_lines, skipfooter, doublequote, delim_whitespace, low_memory, memory_map, float_precision)\u001b[0m\n\u001b[1;32m    676\u001b[0m                     skip_blank_lines=skip_blank_lines)\n\u001b[1;32m    677\u001b[0m \u001b[0;34m\u001b[0m\u001b[0m\n\u001b[0;32m--> 678\u001b[0;31m         \u001b[0;32mreturn\u001b[0m \u001b[0m_read\u001b[0m\u001b[0;34m(\u001b[0m\u001b[0mfilepath_or_buffer\u001b[0m\u001b[0;34m,\u001b[0m \u001b[0mkwds\u001b[0m\u001b[0;34m)\u001b[0m\u001b[0;34m\u001b[0m\u001b[0;34m\u001b[0m\u001b[0m\n\u001b[0m\u001b[1;32m    679\u001b[0m \u001b[0;34m\u001b[0m\u001b[0m\n\u001b[1;32m    680\u001b[0m     \u001b[0mparser_f\u001b[0m\u001b[0;34m.\u001b[0m\u001b[0m__name__\u001b[0m \u001b[0;34m=\u001b[0m \u001b[0mname\u001b[0m\u001b[0;34m\u001b[0m\u001b[0;34m\u001b[0m\u001b[0m\n",
      "\u001b[0;32m~/anaconda3/lib/python3.7/site-packages/pandas/io/parsers.py\u001b[0m in \u001b[0;36m_read\u001b[0;34m(filepath_or_buffer, kwds)\u001b[0m\n\u001b[1;32m    438\u001b[0m \u001b[0;34m\u001b[0m\u001b[0m\n\u001b[1;32m    439\u001b[0m     \u001b[0;31m# Create the parser.\u001b[0m\u001b[0;34m\u001b[0m\u001b[0;34m\u001b[0m\u001b[0;34m\u001b[0m\u001b[0m\n\u001b[0;32m--> 440\u001b[0;31m     \u001b[0mparser\u001b[0m \u001b[0;34m=\u001b[0m \u001b[0mTextFileReader\u001b[0m\u001b[0;34m(\u001b[0m\u001b[0mfilepath_or_buffer\u001b[0m\u001b[0;34m,\u001b[0m \u001b[0;34m**\u001b[0m\u001b[0mkwds\u001b[0m\u001b[0;34m)\u001b[0m\u001b[0;34m\u001b[0m\u001b[0;34m\u001b[0m\u001b[0m\n\u001b[0m\u001b[1;32m    441\u001b[0m \u001b[0;34m\u001b[0m\u001b[0m\n\u001b[1;32m    442\u001b[0m     \u001b[0;32mif\u001b[0m \u001b[0mchunksize\u001b[0m \u001b[0;32mor\u001b[0m \u001b[0miterator\u001b[0m\u001b[0;34m:\u001b[0m\u001b[0;34m\u001b[0m\u001b[0;34m\u001b[0m\u001b[0m\n",
      "\u001b[0;32m~/anaconda3/lib/python3.7/site-packages/pandas/io/parsers.py\u001b[0m in \u001b[0;36m__init__\u001b[0;34m(self, f, engine, **kwds)\u001b[0m\n\u001b[1;32m    785\u001b[0m             \u001b[0mself\u001b[0m\u001b[0;34m.\u001b[0m\u001b[0moptions\u001b[0m\u001b[0;34m[\u001b[0m\u001b[0;34m'has_index_names'\u001b[0m\u001b[0;34m]\u001b[0m \u001b[0;34m=\u001b[0m \u001b[0mkwds\u001b[0m\u001b[0;34m[\u001b[0m\u001b[0;34m'has_index_names'\u001b[0m\u001b[0;34m]\u001b[0m\u001b[0;34m\u001b[0m\u001b[0;34m\u001b[0m\u001b[0m\n\u001b[1;32m    786\u001b[0m \u001b[0;34m\u001b[0m\u001b[0m\n\u001b[0;32m--> 787\u001b[0;31m         \u001b[0mself\u001b[0m\u001b[0;34m.\u001b[0m\u001b[0m_make_engine\u001b[0m\u001b[0;34m(\u001b[0m\u001b[0mself\u001b[0m\u001b[0;34m.\u001b[0m\u001b[0mengine\u001b[0m\u001b[0;34m)\u001b[0m\u001b[0;34m\u001b[0m\u001b[0;34m\u001b[0m\u001b[0m\n\u001b[0m\u001b[1;32m    788\u001b[0m \u001b[0;34m\u001b[0m\u001b[0m\n\u001b[1;32m    789\u001b[0m     \u001b[0;32mdef\u001b[0m \u001b[0mclose\u001b[0m\u001b[0;34m(\u001b[0m\u001b[0mself\u001b[0m\u001b[0;34m)\u001b[0m\u001b[0;34m:\u001b[0m\u001b[0;34m\u001b[0m\u001b[0;34m\u001b[0m\u001b[0m\n",
      "\u001b[0;32m~/anaconda3/lib/python3.7/site-packages/pandas/io/parsers.py\u001b[0m in \u001b[0;36m_make_engine\u001b[0;34m(self, engine)\u001b[0m\n\u001b[1;32m   1012\u001b[0m     \u001b[0;32mdef\u001b[0m \u001b[0m_make_engine\u001b[0m\u001b[0;34m(\u001b[0m\u001b[0mself\u001b[0m\u001b[0;34m,\u001b[0m \u001b[0mengine\u001b[0m\u001b[0;34m=\u001b[0m\u001b[0;34m'c'\u001b[0m\u001b[0;34m)\u001b[0m\u001b[0;34m:\u001b[0m\u001b[0;34m\u001b[0m\u001b[0;34m\u001b[0m\u001b[0m\n\u001b[1;32m   1013\u001b[0m         \u001b[0;32mif\u001b[0m \u001b[0mengine\u001b[0m \u001b[0;34m==\u001b[0m \u001b[0;34m'c'\u001b[0m\u001b[0;34m:\u001b[0m\u001b[0;34m\u001b[0m\u001b[0;34m\u001b[0m\u001b[0m\n\u001b[0;32m-> 1014\u001b[0;31m             \u001b[0mself\u001b[0m\u001b[0;34m.\u001b[0m\u001b[0m_engine\u001b[0m \u001b[0;34m=\u001b[0m \u001b[0mCParserWrapper\u001b[0m\u001b[0;34m(\u001b[0m\u001b[0mself\u001b[0m\u001b[0;34m.\u001b[0m\u001b[0mf\u001b[0m\u001b[0;34m,\u001b[0m \u001b[0;34m**\u001b[0m\u001b[0mself\u001b[0m\u001b[0;34m.\u001b[0m\u001b[0moptions\u001b[0m\u001b[0;34m)\u001b[0m\u001b[0;34m\u001b[0m\u001b[0;34m\u001b[0m\u001b[0m\n\u001b[0m\u001b[1;32m   1015\u001b[0m         \u001b[0;32melse\u001b[0m\u001b[0;34m:\u001b[0m\u001b[0;34m\u001b[0m\u001b[0;34m\u001b[0m\u001b[0m\n\u001b[1;32m   1016\u001b[0m             \u001b[0;32mif\u001b[0m \u001b[0mengine\u001b[0m \u001b[0;34m==\u001b[0m \u001b[0;34m'python'\u001b[0m\u001b[0;34m:\u001b[0m\u001b[0;34m\u001b[0m\u001b[0;34m\u001b[0m\u001b[0m\n",
      "\u001b[0;32m~/anaconda3/lib/python3.7/site-packages/pandas/io/parsers.py\u001b[0m in \u001b[0;36m__init__\u001b[0;34m(self, src, **kwds)\u001b[0m\n\u001b[1;32m   1706\u001b[0m         \u001b[0mkwds\u001b[0m\u001b[0;34m[\u001b[0m\u001b[0;34m'usecols'\u001b[0m\u001b[0;34m]\u001b[0m \u001b[0;34m=\u001b[0m \u001b[0mself\u001b[0m\u001b[0;34m.\u001b[0m\u001b[0musecols\u001b[0m\u001b[0;34m\u001b[0m\u001b[0;34m\u001b[0m\u001b[0m\n\u001b[1;32m   1707\u001b[0m \u001b[0;34m\u001b[0m\u001b[0m\n\u001b[0;32m-> 1708\u001b[0;31m         \u001b[0mself\u001b[0m\u001b[0;34m.\u001b[0m\u001b[0m_reader\u001b[0m \u001b[0;34m=\u001b[0m \u001b[0mparsers\u001b[0m\u001b[0;34m.\u001b[0m\u001b[0mTextReader\u001b[0m\u001b[0;34m(\u001b[0m\u001b[0msrc\u001b[0m\u001b[0;34m,\u001b[0m \u001b[0;34m**\u001b[0m\u001b[0mkwds\u001b[0m\u001b[0;34m)\u001b[0m\u001b[0;34m\u001b[0m\u001b[0;34m\u001b[0m\u001b[0m\n\u001b[0m\u001b[1;32m   1709\u001b[0m \u001b[0;34m\u001b[0m\u001b[0m\n\u001b[1;32m   1710\u001b[0m         \u001b[0mpassed_names\u001b[0m \u001b[0;34m=\u001b[0m \u001b[0mself\u001b[0m\u001b[0;34m.\u001b[0m\u001b[0mnames\u001b[0m \u001b[0;32mis\u001b[0m \u001b[0;32mNone\u001b[0m\u001b[0;34m\u001b[0m\u001b[0;34m\u001b[0m\u001b[0m\n",
      "\u001b[0;32mpandas/_libs/parsers.pyx\u001b[0m in \u001b[0;36mpandas._libs.parsers.TextReader.__cinit__\u001b[0;34m()\u001b[0m\n",
      "\u001b[0;32mpandas/_libs/parsers.pyx\u001b[0m in \u001b[0;36mpandas._libs.parsers.TextReader._setup_parser_source\u001b[0;34m()\u001b[0m\n",
      "\u001b[0;31mFileNotFoundError\u001b[0m: File b'100OHM_0.22UF_48.78MH_varredura100Hz_3MHz_dados_dados.csv' does not exist"
     ]
    }
   ],
   "source": [
    "for i in files:\n",
    "  \n",
    "  data = pd.read_csv(i)\n",
    "  freq = np.log10(data[\"frequencia (Hz)\"].to_numpy(dtype=\"float64\"))\n",
    "  v_out = data[\"Vpp2 (V)\"].to_numpy(dtype=\"float64\")\n",
    "  v_in = data[\"Vpp1 (V)\"].to_numpy(dtype=\"float64\")\n",
    "  fase = data[\"fase (Ch2-Ch1) (graus)\"].to_numpy(dtype=\"float64\")\n",
    "  Tdb = data[\"T_dB\"].to_numpy(dtype=\"float64\")\n",
    "  \n",
    "  print(\"arquivo: \" + i)\n",
    "  \n",
    "  discard=0\n",
    "  \n",
    "  #Vout/Vin\n",
    " \n",
    "  z = np.polyfit(freq, v_out/v_in, 9)\n",
    "  fa= np.poly1d(z)\n",
    "  x_new = np.linspace(freq[0], freq[-1], 50)\n",
    "  y_new = fa(x_new)\n",
    "  plt.grid(b=True)\n",
    "  plt.plot(freq[0:-1], v_out[0:-1]/v_in[0:-1], \"bo\", x_new, y_new)\n",
    "  plt.xlabel('log10(Frequência) (Hz)')\n",
    "  plt.ylabel('Tensão de saída / Tensão de entrada')\n",
    "\n",
    "\n",
    "\n",
    "  \n",
    "  \n",
    "  if save:\n",
    "    plt.savefig( i[0:-4] + \" v_out v_in.png\", dpi=200)\n",
    "  \n",
    "  plt.show()\n",
    "  \n",
    "  \n",
    "  #Fase\n",
    "  fase[np.isnan(fase)]=0\n",
    "  z = np.polyfit(freq[:len(freq)-discard], fase[:len(freq)-discard], 9)\n",
    "  fa= np.poly1d(z)\n",
    "  x_new = np.linspace(freq[0], freq[-1], 50)\n",
    "  y_new = fa(x_new)\n",
    "  plt.grid(b=True)\n",
    "  plt.plot(freq[:len(freq)-discard], fase[:len(fase)-discard], \"bo\", x_new, y_new)\n",
    "  plt.xlabel('log10(Frequência) (Hz)')\n",
    "  plt.ylabel('Fase (graus)')\n",
    "  \n",
    "  if save:\n",
    "    plt.savefig( i[0:-4] + \" Fase.png\", dpi=200)  \n",
    "  \n",
    "  plt.show()\n",
    "  \n",
    "  \n",
    "  #freq\n",
    "  z = np.polyfit(freq[:len(freq)-discard], v_out[:len(freq)-discard], 9)\n",
    "  fa= np.poly1d(z)\n",
    "  x_new = np.linspace(freq[0], freq[-1], 50)\n",
    "  y_new = fa(x_new)\n",
    "  plt.grid(b=True)\n",
    "  plt.plot(freq[:len(freq)-discard], v_out[:len(v_out)-discard], \"bo\", x_new, y_new)\n",
    "  plt.xlabel('log10(Frequência) (Hz)')\n",
    "  plt.ylabel('Tensão pico a pico de saída (V)')\n",
    "  \n",
    "  if save:\n",
    "    plt.savefig( i[0:-4] + \" V pico a pico.png\", dpi=200)   \n",
    "  \n",
    "  plt.show()\n",
    "\n",
    "  \n",
    "  #Transmitancia\n",
    "  z = np.polyfit(freq, Tdb, 9)\n",
    "  fa= np.poly1d(z)\n",
    "  x_new = np.linspace(freq[0], freq[-1], 50)\n",
    "  y_new = fa(x_new)\n",
    "  print_pair(x_new,y_new)  \n",
    "  plt.plot(freq[:len(freq)-discard], Tdb[:len(freq)-discard], \"bo\", x_new,y_new)\n",
    "  plt.grid(b=True)\n",
    "  plt.xlabel('log10(Frequência) (Hz)')\n",
    "  plt.ylabel('Transmitância (dB)')\n",
    "  if save:\n",
    "    plt.savefig( i[0:-4] + \" Transmitancia.png\", dpi=200)   \n",
    "  \n",
    "  plt.show()"
   ]
  },
  {
   "cell_type": "code",
   "execution_count": null,
   "metadata": {
    "colab": {},
    "colab_type": "code",
    "id": "uI7_cRbQGUrX"
   },
   "outputs": [],
   "source": [
    "def func(w, r, c, l):\n",
    "    return (1/(w*r*c))-((w*l)/(r))\n",
    "    \n",
    "def passa_banda_transmitancia(w,r,c,l):\n",
    "    return -10*(np.log10(1+(func(w,r,c,l)**2)))\n",
    "\n",
    "def rejeita_banda_transmitancia(w,r,c,l):\n",
    "    return 10*(np.log10((func(w,r,c,l)**2)/(1+(func(w,r,c,l)**2))))\n",
    "\n",
    "def passa_banda_fase(w,r,c,l):\n",
    "    return np.rad2deg(np.arctan(func(w,r,c,l)))\n",
    "\n",
    "def rejeita_banda_fase(w,r,c,l):\n",
    "    return np.rad2deg(np.arctan( (-1)/(func(w,r,c,l))  ))\n"
   ]
  },
  {
   "cell_type": "markdown",
   "metadata": {},
   "source": [
    "Plot transmitancia circuito passa-banda"
   ]
  },
  {
   "cell_type": "code",
   "execution_count": null,
   "metadata": {},
   "outputs": [],
   "source": [
    "dados=pd.read_csv(\"des_dados.csv\")\n",
    "freq = (dados[\"frequencia (Hz)\"].to_numpy(dtype=\"float64\"))\n",
    "Tdb = dados[\"T_dB\"].to_numpy(dtype=\"float64\")\n",
    "w=freq*2*np.pi\n",
    "teo_y=passa_banda_transmitancia(w,1000,0.00000022,0.050)\n",
    "freq=np.log10(freq)\n",
    "discard=1"
   ]
  },
  {
   "cell_type": "code",
   "execution_count": null,
   "metadata": {},
   "outputs": [],
   "source": [
    "z = np.polyfit(freq, Tdb, 9)\n",
    "fa= np.poly1d(z)\n",
    "x_new = np.linspace(freq[0], freq[-1-discard], 50)\n",
    "y_new = fa(x_new)\n",
    "plt.plot(freq[:len(freq)-discard], Tdb[:len(freq)-discard], \"bo\", x_new,y_new)\n",
    "plt.grid(b=True)\n",
    "plt.xlabel('log10(Frequência) (Hz)')\n",
    "plt.ylabel('Transmitância (dB)')\n",
    "\n",
    "z = np.polyfit(freq, teo_y, 9)\n",
    "fa= np.poly1d(z)\n",
    "x_new = np.linspace(freq[0], freq[-1-discard], 50)\n",
    "y_new = fa(x_new)\n",
    "plt.plot(freq[:len(freq)-discard], teo_y[:len(freq)-discard], \"go\", x_new,y_new)\n",
    "plt.grid(b=True)\n",
    "plt.xlabel('log10(Frequência) (Hz)')\n",
    "plt.ylabel('Transmitância (dB)')\n",
    "\n",
    "plt.legend([\"ponto experimental\", \"ajuste experimental\", \"ponto modelo 1\", \"ajuste modelo 1\"], loc=\"best\")\n",
    "plt.savefig(\"comparacao_passa_transmitancia.png\", dpi=600)"
   ]
  },
  {
   "cell_type": "markdown",
   "metadata": {},
   "source": [
    "Plot Fase circuito passa-banda"
   ]
  },
  {
   "cell_type": "code",
   "execution_count": null,
   "metadata": {},
   "outputs": [],
   "source": [
    "dados=pd.read_csv(\"circuito_passa.csv\")\n",
    "freq = (dados[\"frequencia (Hz)\"].to_numpy(dtype=\"float64\"))\n",
    "Tdb = dados[\"fase (Ch2-Ch1) (graus)\"].to_numpy(dtype=\"float64\")\n",
    "w=freq*2*np.pi\n",
    "teo_y=passa_banda_fase(w,1000,0.00000022,0.050)\n",
    "freq=np.log10(freq)\n",
    "discard=1"
   ]
  },
  {
   "cell_type": "code",
   "execution_count": null,
   "metadata": {},
   "outputs": [],
   "source": [
    "z = np.polyfit(freq, Tdb, 9)\n",
    "fa= np.poly1d(z)\n",
    "x_new = np.linspace(freq[0], freq[-1-discard], 50)\n",
    "y_new = fa(x_new)\n",
    "plt.plot(freq[:len(freq)-discard], Tdb[:len(freq)-discard], \"bo\", x_new,y_new)\n",
    "plt.grid(b=True)\n",
    "plt.xlabel('log10(Frequência) (Hz)')\n",
    "plt.ylabel('Fase (graus)')\n",
    "\n",
    "z = np.polyfit(freq, teo_y, 9)\n",
    "fa= np.poly1d(z)\n",
    "x_new = np.linspace(freq[0], freq[-1-discard], 50)\n",
    "y_new = fa(x_new)\n",
    "plt.plot(freq[:len(freq)-discard], teo_y[:len(freq)-discard], \"go\", x_new,y_new)\n",
    "plt.grid(b=True)\n",
    "plt.xlabel('log10(Frequência) (Hz)')\n",
    "plt.ylabel('Fase (graus)')\n",
    "\n",
    "plt.legend([\"ponto experimental\", \"ajuste experimental\", \"ponto teorico\", \"ajuste teorico\"], loc=\"best\")\n",
    "plt.savefig(\"comparacao_passa_fase.png\", dpi=600)"
   ]
  },
  {
   "cell_type": "markdown",
   "metadata": {},
   "source": [
    "Plot transmitancia circuito rejeita-banda"
   ]
  },
  {
   "cell_type": "code",
   "execution_count": null,
   "metadata": {},
   "outputs": [],
   "source": [
    "dados=pd.read_csv(\"circuito_rejeita.csv\")\n",
    "freq = (dados[\"frequencia (Hz)\"].to_numpy(dtype=\"float64\"))\n",
    "Tdb = dados[\"T_dB\"].to_numpy(dtype=\"float64\")\n",
    "w=freq*2*np.pi\n",
    "teo_y=rejeita_banda_transmitancia(w,1000,0.00000022,0.050 )\n",
    "\n",
    "freq=np.log10(freq)\n",
    "discard=0"
   ]
  },
  {
   "cell_type": "code",
   "execution_count": null,
   "metadata": {},
   "outputs": [],
   "source": [
    "z = np.polyfit(freq, Tdb, 10)\n",
    "fa= np.poly1d(z)\n",
    "x_new = np.linspace(freq[0], freq[-1], 50)\n",
    "y_new = fa(x_new)\n",
    "plt.plot(freq[:len(freq)-discard], Tdb[:len(freq)-discard], \"bo\", x_new,y_new)\n",
    "plt.grid(b=True)\n",
    "plt.xlabel('log10(Frequência) (Hz)')\n",
    "plt.ylabel('Transmitância (dB)')\n",
    "\n",
    "z = np.polyfit(freq, teo_y, 10)\n",
    "fa= np.poly1d(z)\n",
    "x_new = np.linspace(freq[0], freq[-1], 50)\n",
    "y_new = fa(x_new)\n",
    "plt.plot(freq[:len(freq)-discard], teo_y[:len(freq)-discard], \"go\", x_new,y_new)\n",
    "plt.grid(b=True)\n",
    "plt.xlabel('log10(Frequência) (Hz)')\n",
    "plt.ylabel('Transmitância (dB)')\n",
    "\n",
    "plt.legend([\"ponto experimental\", \"ajuste experimental\", \"ponto teorico\", \"ajuste teorico\"], loc=\"best\")\n",
    "plt.savefig(\"comparacao_rejeita_transmitancia.png\", dpi=600)"
   ]
  },
  {
   "cell_type": "markdown",
   "metadata": {},
   "source": [
    "Plot Fase circuito Rejeita-banda"
   ]
  },
  {
   "cell_type": "code",
   "execution_count": null,
   "metadata": {},
   "outputs": [],
   "source": [
    "dados=pd.read_csv(\"circuito_rejeita.csv\")\n",
    "freq = (dados[\"frequencia (Hz)\"].to_numpy(dtype=\"float64\"))\n",
    "Tdb = dados[\"fase (Ch2-Ch1) (graus)\"].to_numpy(dtype=\"float64\")\n",
    "w=freq*2*np.pi\n",
    "teo_y=rejeita_banda_fase(w,1000,0.00000022,0.050)\n",
    "freq=np.log10(freq)\n",
    "discard=1"
   ]
  },
  {
   "cell_type": "code",
   "execution_count": null,
   "metadata": {},
   "outputs": [],
   "source": [
    "z = np.polyfit(freq, Tdb, 9)\n",
    "fa= np.poly1d(z)\n",
    "x_new = np.linspace(freq[0], freq[-1-discard], 50)\n",
    "y_new = fa(x_new)\n",
    "plt.plot(freq[:len(freq)-discard], Tdb[:len(freq)-discard], \"bo\", x_new,y_new)\n",
    "plt.grid(b=True)\n",
    "plt.xlabel('log10(Frequência) (Hz)')\n",
    "plt.ylabel('Fase (graus)')\n",
    "\n",
    "z = np.polyfit(freq, teo_y, 9)\n",
    "fa= np.poly1d(z)\n",
    "x_new = np.linspace(freq[0], freq[-1-discard], 50)\n",
    "y_new = fa(x_new)\n",
    "plt.plot(freq[:len(freq)-discard], teo_y[:len(freq)-discard], \"go\", x_new,y_new)\n",
    "plt.grid(b=True)\n",
    "plt.xlabel('log10(Frequência) (Hz)')\n",
    "plt.ylabel('Fase (graus)')\n",
    "\n",
    "plt.legend([\"ponto experimental\", \"ajuste experimental\", \"ponto teorico\", \"ajuste teorico\"], loc=\"best\")\n",
    "plt.savefig(\"comparacao_rejeita_fase.png\", dpi=600)"
   ]
  },
  {
   "cell_type": "code",
   "execution_count": null,
   "metadata": {},
   "outputs": [],
   "source": []
  },
  {
   "cell_type": "code",
   "execution_count": null,
   "metadata": {},
   "outputs": [],
   "source": []
  },
  {
   "cell_type": "code",
   "execution_count": null,
   "metadata": {},
   "outputs": [],
   "source": []
  }
 ],
 "metadata": {
  "colab": {
   "collapsed_sections": [],
   "name": "GraphicGenerator.ipynb",
   "provenance": [],
   "version": "0.3.2"
  },
  "kernelspec": {
   "display_name": "Python 3",
   "language": "python",
   "name": "python3"
  },
  "language_info": {
   "codemirror_mode": {
    "name": "ipython",
    "version": 3
   },
   "file_extension": ".py",
   "mimetype": "text/x-python",
   "name": "python",
   "nbconvert_exporter": "python",
   "pygments_lexer": "ipython3",
   "version": "3.7.1"
  }
 },
 "nbformat": 4,
 "nbformat_minor": 2
}
