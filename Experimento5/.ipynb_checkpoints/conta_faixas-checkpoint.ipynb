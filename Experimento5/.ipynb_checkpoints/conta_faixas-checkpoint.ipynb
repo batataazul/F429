{
 "cells": [
  {
   "cell_type": "code",
   "execution_count": 12,
   "metadata": {},
   "outputs": [],
   "source": [
    "import pandas as pd\n",
    "import matplotlib.pyplot as plt\n",
    "import numpy as np"
   ]
  },
  {
   "cell_type": "code",
   "execution_count": 13,
   "metadata": {},
   "outputs": [],
   "source": [
    "arquivo=\"ultimocsvinterferencia.csv\""
   ]
  },
  {
   "cell_type": "code",
   "execution_count": 14,
   "metadata": {},
   "outputs": [
    {
     "name": "stdout",
     "output_type": "stream",
     "text": [
      "CSV não pode ser lido corretamente, delete as primeiras 8 linhas e troque marcação por marcacao\n"
     ]
    }
   ],
   "source": [
    "try:\n",
    "    data = pd.read_csv(arquivo)\n",
    "    dados_intensidade= np.array(data[\"leitura\"])\n",
    "    dados_tempo = np.array(data[\"tempo\"])\n",
    "except:\n",
    "    print(\"CSV não pode ser lido corretamente, delete as primeiras 8 linhas e troque marcação por marcacao\")"
   ]
  },
  {
   "cell_type": "code",
   "execution_count": 16,
   "metadata": {},
   "outputs": [],
   "source": [
    "data = pd.read_csv(arquivo)\n",
    "dados_intensidade= np.array(data[\"leitura\"])"
   ]
  },
  {
   "cell_type": "code",
   "execution_count": 103,
   "metadata": {},
   "outputs": [],
   "source": [
    "maximo=max(dados_intensidade)\n",
    "minimo=min(dados_intensidade)\n",
    "tolerance_range=67\n",
    "hit_bottom=True\n",
    "franjas=0"
   ]
  },
  {
   "cell_type": "code",
   "execution_count": 104,
   "metadata": {},
   "outputs": [],
   "source": [
    "for i in dados_intensidade:\n",
    "    if(i>(maximo-tolerance_range) and hit_bottom):\n",
    "        franjas+=1\n",
    "        hit_bottom=False\n",
    "    elif(i<minimo+tolerance_range):\n",
    "        hit_bottom=True"
   ]
  },
  {
   "cell_type": "code",
   "execution_count": 105,
   "metadata": {},
   "outputs": [
    {
     "name": "stdout",
     "output_type": "stream",
     "text": [
      "numero de franjas=837\n"
     ]
    }
   ],
   "source": [
    "print(\"numero de franjas={}\".format(franjas))"
   ]
  },
  {
   "cell_type": "code",
   "execution_count": null,
   "metadata": {},
   "outputs": [],
   "source": []
  }
 ],
 "metadata": {
  "kernelspec": {
   "display_name": "Python 3",
   "language": "python",
   "name": "python3"
  },
  "language_info": {
   "codemirror_mode": {
    "name": "ipython",
    "version": 3
   },
   "file_extension": ".py",
   "mimetype": "text/x-python",
   "name": "python",
   "nbconvert_exporter": "python",
   "pygments_lexer": "ipython3",
   "version": "3.7.1"
  }
 },
 "nbformat": 4,
 "nbformat_minor": 2
}
